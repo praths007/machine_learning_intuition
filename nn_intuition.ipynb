{
  "nbformat": 4,
  "nbformat_minor": 0,
  "metadata": {
    "colab": {
      "name": "nn_intuition.ipynb",
      "version": "0.3.2",
      "provenance": [],
      "collapsed_sections": [],
      "include_colab_link": true
    },
    "kernelspec": {
      "display_name": "R",
      "language": "R",
      "name": "ir"
    }
  },
  "cells": [
    {
      "cell_type": "markdown",
      "metadata": {
        "id": "view-in-github",
        "colab_type": "text"
      },
      "source": [
        "<a href=\"https://colab.research.google.com/github/praths007/machine_learning_intuition/blob/master/nn_intuition.ipynb\" target=\"_parent\"><img src=\"https://colab.research.google.com/assets/colab-badge.svg\" alt=\"Open In Colab\"/></a>"
      ]
    },
    {
      "metadata": {
        "id": "dEpepqpS0ajx",
        "colab_type": "text"
      },
      "cell_type": "markdown",
      "source": [
        "**Understanding neural networks using gradient descent**"
      ]
    },
    {
      "metadata": {
        "id": "XZjY50Wn9ybg",
        "colab_type": "code",
        "colab": {
          "base_uri": "https://localhost:8080/",
          "height": 51
        },
        "outputId": "fc88b8ed-5c9a-4343-d654-611df8a2720a"
      },
      "cell_type": "code",
      "source": [
        "rm(list = ls())\n",
        "### caret only used for stratified random sampling\n",
        "library(caret)"
      ],
      "execution_count": 4,
      "outputs": [
        {
          "output_type": "stream",
          "text": [
            "Loading required package: lattice\n",
            "Loading required package: ggplot2\n"
          ],
          "name": "stderr"
        }
      ]
    },
    {
      "metadata": {
        "id": "TWmuN2lP97ID",
        "colab_type": "code",
        "colab": {
          "base_uri": "https://localhost:8080/",
          "height": 51
        },
        "outputId": "93ee8836-5052-495e-857e-873a92c8f9de"
      },
      "cell_type": "code",
      "source": [
        "### loading dataset\n",
        "############################################\n",
        "iris_data = iris[which(iris$Species %in% c(\"setosa\", \"versicolor\")),]\n",
        "## not used 1 and 0 because array indexes in R start from 1.\n",
        "## this will ease the computation while creating seq...\n",
        "## also this can be used to do multiclass classification\n",
        "## where labels could be 1,2,3 etc...\n",
        "\n",
        "iris_data$Species = ifelse(iris_data$Species == \"setosa\", 1, 2)\n",
        "\n",
        "\n",
        "### adding intercept column to the data\n",
        "iris_data$intercept = 1\n",
        "\n",
        "iris_data = cbind(intercept = iris_data$intercept, \n",
        "                  iris_data[,c(\"Petal.Length\", \"Petal.Width\", \"Species\")])\n",
        "\n",
        "index = unlist(createDataPartition(iris_data$Species, p =  0.7))\n",
        "\n",
        "train_x = data.matrix(iris_data[index,c(\"intercept\", \"Petal.Length\", \"Petal.Width\")])\n",
        "\n",
        "train_y = data.matrix(iris_data[index,c(\"Species\")])\n",
        "\n",
        "\n",
        "test_x = data.matrix(iris_data[-index, c(\"intercept\", \"Petal.Length\", \"Petal.Width\")])\n",
        "\n",
        "test_y = data.matrix(iris_data[-index, c(\"Species\")])\n",
        "\n",
        "nrow(train_x)\n",
        "nrow(test_x)\n",
        "############################################"
      ],
      "execution_count": 5,
      "outputs": [
        {
          "output_type": "display_data",
          "data": {
            "text/plain": [
              "[1] 70"
            ],
            "text/latex": "70",
            "text/markdown": "70",
            "text/html": [
              "70"
            ]
          },
          "metadata": {
            "tags": []
          }
        },
        {
          "output_type": "display_data",
          "data": {
            "text/plain": [
              "[1] 30"
            ],
            "text/latex": "30",
            "text/markdown": "30",
            "text/html": [
              "30"
            ]
          },
          "metadata": {
            "tags": []
          }
        }
      ]
    },
    {
      "metadata": {
        "id": "tkEtoH2f-AWr",
        "colab_type": "code",
        "colab": {}
      },
      "cell_type": "code",
      "source": [
        "### defining required functions\n",
        "############################################\n",
        "\n",
        "squared_error_cost = function(y, yhat){\n",
        "  return((1 / nrow(y)) * sum((y - yhat)^2))}\n",
        "\n",
        "## evaluation metric/ cost function logloss is used for classification\n",
        "## https://datawookie.netlify.com/blog/2015/12/making-sense-of-logarithmic-loss/\n",
        "logloss_cost = function(y, yhat){\n",
        "  return(-(1 / nrow(y)) * sum((y*log(yhat) + (1 - y)*log(1 - yhat))))}\n",
        "\n",
        "## activation function - used to limit values between 0 and 1\n",
        "sigmoid = function(x){\n",
        "  return(1 / (1 + 2.71^-x))}\n",
        "\n",
        "## used for backpropogation\n",
        "sigmoidGradient = function(x){\n",
        "  return(sigmoid(x) * (1 - sigmoid(x)))}\n",
        "############################################\n"
      ],
      "execution_count": 0,
      "outputs": []
    },
    {
      "metadata": {
        "id": "7H35ehcf-Kot",
        "colab_type": "code",
        "colab": {
          "base_uri": "https://localhost:8080/",
          "height": 1317
        },
        "outputId": "93127cbe-cb2f-40c3-eb25-6259797a9aae"
      },
      "cell_type": "code",
      "source": [
        "#### neural networks intuition\n",
        "################################################\n",
        "\n",
        "num_labels = 2 # 1 and 2 in our case\n",
        "\n",
        "m = dim(train_x)[1]\n",
        "n = dim(train_x)[2]\n",
        "\n",
        "## number of nodes in 1st layer/input layer must\n",
        "## equal number of columns/ features of input data\n",
        "layer1_nodes = ncol(train_x)\n",
        "\n",
        "## this layer can have as many nodes as required\n",
        "## rule of thumb is usually 1.5 times or equal number\n",
        "## this is the hidden layer\n",
        "layer2_nodes = trunc(ncol(train_x) * 1.5)\n",
        "\n",
        "# final output layer nodes = number of labels\n",
        "output_layer_nodes = num_labels\n",
        "\n",
        "\n",
        "Theta1 = array(runif(n = gaussian(), min = 0, max = 1), c(layer2_nodes, layer1_nodes))\n",
        "\n",
        "Theta2 = array(runif(n = gaussian(), min = 0, max = 1), c(output_layer_nodes, layer2_nodes+1))\n",
        "\n",
        "## input layer\n",
        "a1 = train_x\n",
        "\n",
        "z2 = a1 %*% t(Theta1)\n",
        "\n",
        "a2 = sigmoid(z2)\n",
        "\n",
        "# second layer (hidden layer)\n",
        "a2 = cbind(1, a2)\n",
        "\n",
        "z3 = a2 %*% t(Theta2)\n",
        "\n",
        "# third layer (output layer)\n",
        "a3 = sigmoid(z3)\n",
        "\n",
        "## neural network cost:\n",
        "# it is a triple summation of logistic cost (because we are using sigmoid as activation),\n",
        "# where the innermost summation is sum of cost for each node within a layer\n",
        "# think of this as a collection of logistic regression models where each node represents\n",
        "# one logit model (having sigmoid as its activation, similar to what was done in logit intuition)\n",
        "\n",
        "individual_train = array(0L, m)\n",
        "individual_theta_k = array(0L, output_layer_nodes)\n",
        "for(i in seq(1, m)){\n",
        "  # for calculating innermost summation of cost (which is basically cost/error\n",
        "  # for each node of the output layer wrt actual value)\n",
        "  for(k in seq(1, num_labels)){\n",
        "    individual_theta_k[k] = as.numeric(train_y[i,] == k)  * log(a3[i, k]) + \n",
        "                          (1 - as.numeric(train_y[i,] == k)) * log(1 - a3[i, k])\n",
        "  }\n",
        "  # summation of errors at each label K for each input tuple/ row\n",
        "  individual_train[i] = sum(individual_theta_k)\n",
        "}\n",
        "# summation of errors for all tuples\n",
        "cost = -(1/m) * sum(individual_train)\n",
        "cost\n",
        "\n",
        "\n",
        "## backpropogation (adjusting weights of previous layers wrt error in output layer)\n",
        "## delta3 = error in output layer\n",
        "## again done for each node in the layer\n",
        "delta3 = array(0L, c(dim(a3)))\n",
        "for(i in seq(1, m)){\n",
        "  for(k in seq(1, num_labels)){\n",
        "    delta3[i, k] = a3[i, k] - as.numeric(train_y[i,] == k)\n",
        "  }\n",
        "}\n",
        "\n",
        "# this is the error\n",
        "delta3\n",
        "\n",
        "# we will be taking a negative gradient of this error/ cost to calculate the\n",
        "# direction of steepest ascent and then adjust weights for each node of each layer\n",
        "# accordingly\n",
        "\n",
        "delta2 = (delta3 %*% Theta2[,2:ncol(Theta2)]) * sigmoidGradient(z2)\n",
        "\n",
        "Theta1_grad = (1 / m) * t(delta2) %*% a1\n",
        "Theta2_grad = (1 / m) * t(delta3) %*% a2\n",
        "  \n",
        "alpha = 0.001\n",
        "Theta1 = Theta1 - alpha * Theta1_grad\n",
        "Theta2 = Theta2 - alpha * Theta2_grad"
      ],
      "execution_count": 7,
      "outputs": [
        {
          "output_type": "display_data",
          "data": {
            "text/plain": [
              "[1] 2.767547"
            ],
            "text/latex": "2.76754690337835",
            "text/markdown": "2.76754690337835",
            "text/html": [
              "2.76754690337835"
            ]
          },
          "metadata": {
            "tags": []
          }
        },
        {
          "output_type": "display_data",
          "data": {
            "text/plain": [
              "      [,1]        [,2]       \n",
              " [1,] -0.07611479 0.9034793  \n",
              " [2,] -0.07611479 0.9034793  \n",
              " [3,] -0.07490820 0.9047159  \n",
              " [4,] -0.07611479 0.9034793  \n",
              " [5,] -0.06854687 0.9119436  \n",
              " [6,] -0.07376584 0.9062052  \n",
              " [7,] -0.07611479 0.9034793  \n",
              " [8,] -0.07733222 0.9019046  \n",
              " [9,] -0.07490820 0.9047159  \n",
              "[10,] -0.07374733 0.9059134  \n",
              "[11,] -0.07052133 0.9098663  \n",
              "[12,] -0.07265997 0.9076473  \n",
              "[13,] -0.07051911 0.9095807  \n",
              "[14,] -0.07264063 0.9073673  \n",
              "[15,] -0.06670605 0.9141688  \n",
              "[16,] -0.07374733 0.9059134  \n",
              "[17,] -0.06951423 0.9109222  \n",
              "[18,] -0.07490820 0.9047159  \n",
              "[19,] -0.07611479 0.9034793  \n",
              "[20,] -0.07374733 0.9059134  \n",
              "[21,] -0.07374733 0.9059134  \n",
              "[22,] -0.07733222 0.9019046  \n",
              "[23,] -0.07611479 0.9034793  \n",
              "[24,] -0.07867001 0.9008850  \n",
              "[25,] -0.07736832 0.9022026  \n",
              "[26,] -0.07736832 0.9022026  \n",
              "[27,] -0.07490820 0.9047159  \n",
              "[28,] -0.07493572 0.9050048  \n",
              "[29,] -0.07493572 0.9050048  \n",
              "[30,] -0.07736832 0.9022026  \n",
              "[31,] ⋮           ⋮          \n",
              "[32,] 0.9484696   -0.06733123\n",
              "[33,] 0.9526079   -0.06123824\n",
              "[34,] 0.9505466   -0.06426576\n",
              "[35,] 0.9525084   -0.06144564\n",
              "[36,] 0.9530484   -0.06059647\n",
              "[37,] 0.9500094   -0.06527941\n",
              "[38,] 0.9530484   -0.06059647\n",
              "[39,] 0.9501178   -0.06503449\n",
              "[40,] 0.9544118   -0.05840459\n",
              "[41,] 0.9513740   -0.06313010\n",
              "[42,] 0.9535674   -0.05982152\n",
              "[43,] 0.9521401   -0.06211232\n",
              "[44,] 0.9519176   -0.06236331\n",
              "[45,] 0.9525084   -0.06144564\n",
              "[46,] 0.9530834   -0.06060017\n",
              "[47,] 0.9543197   -0.05858476\n",
              "[48,] 0.9530484   -0.06059647\n",
              "[49,] 0.9490236   -0.06660442\n",
              "[50,] 0.9506648   -0.06419533\n",
              "[51,] 0.9541196   -0.05893320\n",
              "[52,] 0.9530484   -0.06059647\n",
              "[53,] 0.9520858   -0.06212238\n",
              "[54,] 0.9515620   -0.06286690\n",
              "[55,] 0.9513740   -0.06313010\n",
              "[56,] 0.9528061   -0.06101087\n",
              "[57,] 0.9508742   -0.06390709\n",
              "[58,] 0.9478696   -0.06810542\n",
              "[59,] 0.9512700   -0.06335595\n",
              "[60,] 0.9476432   -0.06826698\n",
              "[61,] 0.9515620   -0.06286690"
            ],
            "text/latex": "\\begin{tabular}{ll}\n\t -0.07611479 & 0.9034793  \\\\\n\t -0.07611479 & 0.9034793  \\\\\n\t -0.07490820 & 0.9047159  \\\\\n\t -0.07611479 & 0.9034793  \\\\\n\t -0.06854687 & 0.9119436  \\\\\n\t -0.07376584 & 0.9062052  \\\\\n\t -0.07611479 & 0.9034793  \\\\\n\t -0.07733222 & 0.9019046  \\\\\n\t -0.07490820 & 0.9047159  \\\\\n\t -0.07374733 & 0.9059134  \\\\\n\t -0.07052133 & 0.9098663  \\\\\n\t -0.07265997 & 0.9076473  \\\\\n\t -0.07051911 & 0.9095807  \\\\\n\t -0.07264063 & 0.9073673  \\\\\n\t -0.06670605 & 0.9141688  \\\\\n\t -0.07374733 & 0.9059134  \\\\\n\t -0.06951423 & 0.9109222  \\\\\n\t -0.07490820 & 0.9047159  \\\\\n\t -0.07611479 & 0.9034793  \\\\\n\t -0.07374733 & 0.9059134  \\\\\n\t -0.07374733 & 0.9059134  \\\\\n\t -0.07733222 & 0.9019046  \\\\\n\t -0.07611479 & 0.9034793  \\\\\n\t -0.07867001 & 0.9008850  \\\\\n\t -0.07736832 & 0.9022026  \\\\\n\t -0.07736832 & 0.9022026  \\\\\n\t -0.07490820 & 0.9047159  \\\\\n\t -0.07493572 & 0.9050048  \\\\\n\t -0.07493572 & 0.9050048  \\\\\n\t -0.07736832 & 0.9022026  \\\\\n\t ⋮ & ⋮\\\\\n\t 0.9484696   & -0.06733123\\\\\n\t 0.9526079   & -0.06123824\\\\\n\t 0.9505466   & -0.06426576\\\\\n\t 0.9525084   & -0.06144564\\\\\n\t 0.9530484   & -0.06059647\\\\\n\t 0.9500094   & -0.06527941\\\\\n\t 0.9530484   & -0.06059647\\\\\n\t 0.9501178   & -0.06503449\\\\\n\t 0.9544118   & -0.05840459\\\\\n\t 0.9513740   & -0.06313010\\\\\n\t 0.9535674   & -0.05982152\\\\\n\t 0.9521401   & -0.06211232\\\\\n\t 0.9519176   & -0.06236331\\\\\n\t 0.9525084   & -0.06144564\\\\\n\t 0.9530834   & -0.06060017\\\\\n\t 0.9543197   & -0.05858476\\\\\n\t 0.9530484   & -0.06059647\\\\\n\t 0.9490236   & -0.06660442\\\\\n\t 0.9506648   & -0.06419533\\\\\n\t 0.9541196   & -0.05893320\\\\\n\t 0.9530484   & -0.06059647\\\\\n\t 0.9520858   & -0.06212238\\\\\n\t 0.9515620   & -0.06286690\\\\\n\t 0.9513740   & -0.06313010\\\\\n\t 0.9528061   & -0.06101087\\\\\n\t 0.9508742   & -0.06390709\\\\\n\t 0.9478696   & -0.06810542\\\\\n\t 0.9512700   & -0.06335595\\\\\n\t 0.9476432   & -0.06826698\\\\\n\t 0.9515620   & -0.06286690\\\\\n\\end{tabular}\n",
            "text/markdown": "\n| -0.07611479 | 0.9034793   |\n| -0.07611479 | 0.9034793   |\n| -0.07490820 | 0.9047159   |\n| -0.07611479 | 0.9034793   |\n| -0.06854687 | 0.9119436   |\n| -0.07376584 | 0.9062052   |\n| -0.07611479 | 0.9034793   |\n| -0.07733222 | 0.9019046   |\n| -0.07490820 | 0.9047159   |\n| -0.07374733 | 0.9059134   |\n| -0.07052133 | 0.9098663   |\n| -0.07265997 | 0.9076473   |\n| -0.07051911 | 0.9095807   |\n| -0.07264063 | 0.9073673   |\n| -0.06670605 | 0.9141688   |\n| -0.07374733 | 0.9059134   |\n| -0.06951423 | 0.9109222   |\n| -0.07490820 | 0.9047159   |\n| -0.07611479 | 0.9034793   |\n| -0.07374733 | 0.9059134   |\n| -0.07374733 | 0.9059134   |\n| -0.07733222 | 0.9019046   |\n| -0.07611479 | 0.9034793   |\n| -0.07867001 | 0.9008850   |\n| -0.07736832 | 0.9022026   |\n| -0.07736832 | 0.9022026   |\n| -0.07490820 | 0.9047159   |\n| -0.07493572 | 0.9050048   |\n| -0.07493572 | 0.9050048   |\n| -0.07736832 | 0.9022026   |\n| ⋮ | ⋮ |\n| 0.9484696   | -0.06733123 |\n| 0.9526079   | -0.06123824 |\n| 0.9505466   | -0.06426576 |\n| 0.9525084   | -0.06144564 |\n| 0.9530484   | -0.06059647 |\n| 0.9500094   | -0.06527941 |\n| 0.9530484   | -0.06059647 |\n| 0.9501178   | -0.06503449 |\n| 0.9544118   | -0.05840459 |\n| 0.9513740   | -0.06313010 |\n| 0.9535674   | -0.05982152 |\n| 0.9521401   | -0.06211232 |\n| 0.9519176   | -0.06236331 |\n| 0.9525084   | -0.06144564 |\n| 0.9530834   | -0.06060017 |\n| 0.9543197   | -0.05858476 |\n| 0.9530484   | -0.06059647 |\n| 0.9490236   | -0.06660442 |\n| 0.9506648   | -0.06419533 |\n| 0.9541196   | -0.05893320 |\n| 0.9530484   | -0.06059647 |\n| 0.9520858   | -0.06212238 |\n| 0.9515620   | -0.06286690 |\n| 0.9513740   | -0.06313010 |\n| 0.9528061   | -0.06101087 |\n| 0.9508742   | -0.06390709 |\n| 0.9478696   | -0.06810542 |\n| 0.9512700   | -0.06335595 |\n| 0.9476432   | -0.06826698 |\n| 0.9515620   | -0.06286690 |\n\n",
            "text/html": [
              "<table>\n",
              "<tbody>\n",
              "\t<tr><td>-0.07611479</td><td>0.9034793  </td></tr>\n",
              "\t<tr><td>-0.07611479</td><td>0.9034793  </td></tr>\n",
              "\t<tr><td>-0.07490820</td><td>0.9047159  </td></tr>\n",
              "\t<tr><td>-0.07611479</td><td>0.9034793  </td></tr>\n",
              "\t<tr><td>-0.06854687</td><td>0.9119436  </td></tr>\n",
              "\t<tr><td>-0.07376584</td><td>0.9062052  </td></tr>\n",
              "\t<tr><td>-0.07611479</td><td>0.9034793  </td></tr>\n",
              "\t<tr><td>-0.07733222</td><td>0.9019046  </td></tr>\n",
              "\t<tr><td>-0.07490820</td><td>0.9047159  </td></tr>\n",
              "\t<tr><td>-0.07374733</td><td>0.9059134  </td></tr>\n",
              "\t<tr><td>-0.07052133</td><td>0.9098663  </td></tr>\n",
              "\t<tr><td>-0.07265997</td><td>0.9076473  </td></tr>\n",
              "\t<tr><td>-0.07051911</td><td>0.9095807  </td></tr>\n",
              "\t<tr><td>-0.07264063</td><td>0.9073673  </td></tr>\n",
              "\t<tr><td>-0.06670605</td><td>0.9141688  </td></tr>\n",
              "\t<tr><td>-0.07374733</td><td>0.9059134  </td></tr>\n",
              "\t<tr><td>-0.06951423</td><td>0.9109222  </td></tr>\n",
              "\t<tr><td>-0.07490820</td><td>0.9047159  </td></tr>\n",
              "\t<tr><td>-0.07611479</td><td>0.9034793  </td></tr>\n",
              "\t<tr><td>-0.07374733</td><td>0.9059134  </td></tr>\n",
              "\t<tr><td>-0.07374733</td><td>0.9059134  </td></tr>\n",
              "\t<tr><td>-0.07733222</td><td>0.9019046  </td></tr>\n",
              "\t<tr><td>-0.07611479</td><td>0.9034793  </td></tr>\n",
              "\t<tr><td>-0.07867001</td><td>0.9008850  </td></tr>\n",
              "\t<tr><td>-0.07736832</td><td>0.9022026  </td></tr>\n",
              "\t<tr><td>-0.07736832</td><td>0.9022026  </td></tr>\n",
              "\t<tr><td>-0.07490820</td><td>0.9047159  </td></tr>\n",
              "\t<tr><td>-0.07493572</td><td>0.9050048  </td></tr>\n",
              "\t<tr><td>-0.07493572</td><td>0.9050048  </td></tr>\n",
              "\t<tr><td>-0.07736832</td><td>0.9022026  </td></tr>\n",
              "\t<tr><td>⋮</td><td>⋮</td></tr>\n",
              "\t<tr><td>0.9484696  </td><td>-0.06733123</td></tr>\n",
              "\t<tr><td>0.9526079  </td><td>-0.06123824</td></tr>\n",
              "\t<tr><td>0.9505466  </td><td>-0.06426576</td></tr>\n",
              "\t<tr><td>0.9525084  </td><td>-0.06144564</td></tr>\n",
              "\t<tr><td>0.9530484  </td><td>-0.06059647</td></tr>\n",
              "\t<tr><td>0.9500094  </td><td>-0.06527941</td></tr>\n",
              "\t<tr><td>0.9530484  </td><td>-0.06059647</td></tr>\n",
              "\t<tr><td>0.9501178  </td><td>-0.06503449</td></tr>\n",
              "\t<tr><td>0.9544118  </td><td>-0.05840459</td></tr>\n",
              "\t<tr><td>0.9513740  </td><td>-0.06313010</td></tr>\n",
              "\t<tr><td>0.9535674  </td><td>-0.05982152</td></tr>\n",
              "\t<tr><td>0.9521401  </td><td>-0.06211232</td></tr>\n",
              "\t<tr><td>0.9519176  </td><td>-0.06236331</td></tr>\n",
              "\t<tr><td>0.9525084  </td><td>-0.06144564</td></tr>\n",
              "\t<tr><td>0.9530834  </td><td>-0.06060017</td></tr>\n",
              "\t<tr><td>0.9543197  </td><td>-0.05858476</td></tr>\n",
              "\t<tr><td>0.9530484  </td><td>-0.06059647</td></tr>\n",
              "\t<tr><td>0.9490236  </td><td>-0.06660442</td></tr>\n",
              "\t<tr><td>0.9506648  </td><td>-0.06419533</td></tr>\n",
              "\t<tr><td>0.9541196  </td><td>-0.05893320</td></tr>\n",
              "\t<tr><td>0.9530484  </td><td>-0.06059647</td></tr>\n",
              "\t<tr><td>0.9520858  </td><td>-0.06212238</td></tr>\n",
              "\t<tr><td>0.9515620  </td><td>-0.06286690</td></tr>\n",
              "\t<tr><td>0.9513740  </td><td>-0.06313010</td></tr>\n",
              "\t<tr><td>0.9528061  </td><td>-0.06101087</td></tr>\n",
              "\t<tr><td>0.9508742  </td><td>-0.06390709</td></tr>\n",
              "\t<tr><td>0.9478696  </td><td>-0.06810542</td></tr>\n",
              "\t<tr><td>0.9512700  </td><td>-0.06335595</td></tr>\n",
              "\t<tr><td>0.9476432  </td><td>-0.06826698</td></tr>\n",
              "\t<tr><td>0.9515620  </td><td>-0.06286690</td></tr>\n",
              "</tbody>\n",
              "</table>\n"
            ]
          },
          "metadata": {
            "tags": []
          }
        }
      ]
    },
    {
      "metadata": {
        "id": "onUAWBTw0ajy",
        "colab_type": "code",
        "colab": {
          "base_uri": "https://localhost:8080/",
          "height": 857
        },
        "outputId": "e714c4e6-2ef0-4292-dc70-ebf22d0cf653"
      },
      "cell_type": "code",
      "source": [
        "## gradient descent intuition\n",
        "\n",
        "cost = c()\n",
        "num_labels = 2 # 0 and 1 in our case\n",
        "\n",
        "m = dim(train_x)[1]\n",
        "n = dim(train_x)[2]\n",
        "\n",
        "## number of nodes in 1st layer/input layer must\n",
        "## equal number of columns/ features of input data\n",
        "layer1_nodes = ncol(train_x)\n",
        "\n",
        "## this layer can have as many nodes as required\n",
        "## rule of thumb is usually 1.5 times or equal number\n",
        "layer2_nodes = trunc(ncol(train_x) * 1.5)\n",
        "\n",
        "# final output layer nodes = number of labels\n",
        "output_layer_nodes = 2\n",
        "\n",
        "gradient_descent_for_nn = function(alpha, iterations, train_x, train_y)\n",
        "{\n",
        "  ## initialize theta (weights)\n",
        "  \n",
        "  Theta1 = array(runif(n = gaussian(), min = 0, max = 1), c(layer2_nodes, layer1_nodes))\n",
        "  \n",
        "  Theta2 = array(runif(n = gaussian(), min = 0, max = 1), c(output_layer_nodes, layer2_nodes+1))\n",
        "  \n",
        "  \n",
        "  for(i in seq(1, iterations)){\n",
        "    \n",
        "    a1 = train_x\n",
        "    \n",
        "    z2 = a1 %*% t(Theta1)\n",
        "    \n",
        "    a2 = sigmoid(z2)\n",
        "    \n",
        "    a2 = cbind(1, a2)\n",
        "    \n",
        "    \n",
        "    z3 = a2 %*% t(Theta2)\n",
        "    \n",
        "    a3 = sigmoid(z3)\n",
        "    \n",
        "    \n",
        "    individual_train = array(0L, m)\n",
        "    individual_theta_k = array(0L, output_layer_nodes)\n",
        "    for(i in seq(1, m)){\n",
        "      for(k in seq(1, num_labels)){\n",
        "        individual_theta_k[k] = as.numeric(train_y[i,] == k)  * log(a3[i, k]) + \n",
        "          (1 - as.numeric(train_y[i,] == k)) * log(1 - a3[i, k])\n",
        "      }\n",
        "      individual_train[i] = sum(individual_theta_k)\n",
        "    }\n",
        "    cost <<- c(cost, -(1/m) * sum(individual_train))\n",
        "    # cost = c(cost, cost)\n",
        "    # print(cost)\n",
        "    \n",
        "    \n",
        "    \n",
        "    delta3 = array(0L, c(dim(a3)))\n",
        "    for(i in seq(1, m)){\n",
        "      for(k in seq(1, num_labels)){\n",
        "        delta3[i, k] = a3[i, k] - as.numeric(train_y[i,] == k)\n",
        "      }\n",
        "    }\n",
        "    \n",
        "    # delta3\n",
        "    \n",
        "    \n",
        "    # delta2 = Theta2*delta3 * (derivative of activation function, which is sigmoid)\n",
        "    # delta2 = Theta2*delta3 * a3 * (1 - a3)\n",
        "    \n",
        "    delta2 = (delta3 %*% Theta2[,2:ncol(Theta2)]) * sigmoidGradient(z2)\n",
        "    \n",
        "    Theta1_grad = (1 / m) * t(delta2) %*% a1\n",
        "    Theta2_grad = (1 / m) * t(delta3) %*% a2\n",
        "    \n",
        "    # alpha = 0.001\n",
        "    Theta1 = Theta1 - alpha * Theta1_grad\n",
        "    Theta2 = Theta2 - alpha * Theta2_grad\n",
        "    \n",
        "  }\n",
        "  return(list(Theta1, Theta2))\n",
        "  \n",
        "}\n",
        "\n",
        "\n",
        "alpha = 0.01\n",
        "## keep changing epochs, more epochs = more steps towards minimum cost\n",
        "epochs = 3000\n",
        "\n",
        "thetas = gradient_descent_for_nn(alpha, epochs, train_x, train_y)\n",
        "\n",
        "plot(cost)"
      ],
      "execution_count": 9,
      "outputs": [
        {
          "output_type": "display_data",
          "data": {
            "image/png": "[encoded data removed]",
            "text/plain": [
              "plot without title"
            ]
          },
          "metadata": {
            "tags": []
          }
        }
      ]
    },
    {
      "metadata": {
        "id": "yNilwJhf0aj1",
        "colab_type": "code",
        "colab": {
          "base_uri": "https://localhost:8080/",
          "height": 459
        },
        "outputId": "a95bfbcf-ea77-4f54-c5dd-775358a471d1"
      },
      "cell_type": "code",
      "source": [
        "## predicting on test set\n",
        "h1 = sigmoid(test_x %*% t(thetas[[1]]))\n",
        "h2 = sigmoid(cbind(1, h1) %*% t(thetas[[2]]))\n",
        "\n",
        "\n",
        "preds = apply(h2, 1, function(x) which(x == max(x)))\n",
        "\n",
        "confusionMatrix(as.factor(preds), as.factor(test_y))\n",
        "## 100% accuracy\n"
      ],
      "execution_count": 10,
      "outputs": [
        {
          "output_type": "display_data",
          "data": {
            "text/plain": [
              "Confusion Matrix and Statistics\n",
              "\n",
              "          Reference\n",
              "Prediction  1  2\n",
              "         1 15  0\n",
              "         2  0 15\n",
              "                                     \n",
              "               Accuracy : 1          \n",
              "                 95% CI : (0.8843, 1)\n",
              "    No Information Rate : 0.5        \n",
              "    P-Value [Acc > NIR] : 9.313e-10  \n",
              "                                     \n",
              "                  Kappa : 1          \n",
              " Mcnemar's Test P-Value : NA         \n",
              "                                     \n",
              "            Sensitivity : 1.0        \n",
              "            Specificity : 1.0        \n",
              "         Pos Pred Value : 1.0        \n",
              "         Neg Pred Value : 1.0        \n",
              "             Prevalence : 0.5        \n",
              "         Detection Rate : 0.5        \n",
              "   Detection Prevalence : 0.5        \n",
              "      Balanced Accuracy : 1.0        \n",
              "                                     \n",
              "       'Positive' Class : 1          \n",
              "                                     "
            ]
          },
          "metadata": {
            "tags": []
          }
        }
      ]
    }
  ]
}